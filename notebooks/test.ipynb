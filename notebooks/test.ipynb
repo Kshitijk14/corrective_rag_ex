{
 "cells": [
  {
   "cell_type": "code",
   "execution_count": 1,
   "id": "8ba3ab25",
   "metadata": {},
   "outputs": [
    {
     "data": {
      "text/plain": [
       "'c:\\\\Users\\\\Hp\\\\Documents\\\\GitHub\\\\corrective_rag_ex\\\\notebooks'"
      ]
     },
     "execution_count": 1,
     "metadata": {},
     "output_type": "execute_result"
    }
   ],
   "source": [
    "%pwd"
   ]
  },
  {
   "cell_type": "code",
   "execution_count": 2,
   "id": "c737ab2e",
   "metadata": {},
   "outputs": [
    {
     "data": {
      "text/plain": [
       "'c:\\\\Users\\\\Hp\\\\Documents\\\\GitHub\\\\corrective_rag_ex'"
      ]
     },
     "execution_count": 2,
     "metadata": {},
     "output_type": "execute_result"
    }
   ],
   "source": [
    "import os\n",
    "\n",
    "os.chdir(\"../\")\n",
    "\n",
    "%pwd"
   ]
  },
  {
   "cell_type": "code",
   "execution_count": 2,
   "id": "19a9cace",
   "metadata": {},
   "outputs": [
    {
     "name": "stdout",
     "output_type": "stream",
     "text": [
      "[✅] GPT4AllEmbeddings loaded successfully\n"
     ]
    }
   ],
   "source": [
    "from langchain.embeddings import GPT4AllEmbeddings\n",
    "\n",
    "try:\n",
    "    model = GPT4AllEmbeddings()\n",
    "    print(\"[✅] GPT4AllEmbeddings loaded successfully\")\n",
    "except Exception as e:\n",
    "    print(f\"[❌] GPT4AllEmbeddings error: {e}\")"
   ]
  },
  {
   "cell_type": "code",
   "execution_count": 3,
   "id": "42bb2d8c",
   "metadata": {},
   "outputs": [
    {
     "name": "stdout",
     "output_type": "stream",
     "text": [
      "[✅] Chroma test succeeded with fake embedding\n"
     ]
    }
   ],
   "source": [
    "from langchain.vectorstores import Chroma\n",
    "from langchain.schema import Document\n",
    "from langchain.embeddings import FakeEmbeddings\n",
    "\n",
    "dummy_docs = [Document(page_content=\"Test doc\", metadata={\"source\": \"test\"})]\n",
    "\n",
    "try:\n",
    "    db = Chroma.from_documents(\n",
    "        documents=dummy_docs,\n",
    "        collection_name=\"test-db\",\n",
    "        embedding=FakeEmbeddings(size=32),\n",
    "    )\n",
    "    print(\"[✅] Chroma test succeeded with fake embedding\")\n",
    "except Exception as e:\n",
    "    print(f\"[❌] Chroma test error: {e}\")"
   ]
  }
 ],
 "metadata": {
  "kernelspec": {
   "display_name": "rag-env",
   "language": "python",
   "name": "python3"
  },
  "language_info": {
   "codemirror_mode": {
    "name": "ipython",
    "version": 3
   },
   "file_extension": ".py",
   "mimetype": "text/x-python",
   "name": "python",
   "nbconvert_exporter": "python",
   "pygments_lexer": "ipython3",
   "version": "3.11.4"
  }
 },
 "nbformat": 4,
 "nbformat_minor": 5
}
